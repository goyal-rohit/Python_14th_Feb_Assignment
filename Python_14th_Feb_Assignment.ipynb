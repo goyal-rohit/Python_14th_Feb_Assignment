{
 "cells": [
  {
   "cell_type": "markdown",
   "id": "e563eef4-5d9a-4fda-9e03-0a70be40d067",
   "metadata": {},
   "source": [
    "Q1. What is multithreading in python? Why is it used? Name the module used to handle threads in python."
   ]
  },
  {
   "cell_type": "markdown",
   "id": "03eee89c-37da-4534-9d2b-85505e1667ea",
   "metadata": {},
   "source": [
    "Multithreading is a programming technique where multiple threads of execution are created within a single process, allowing a program to perform multiple tasks simultaneously. Each thread runs independently, but shares the same memory space, allowing them to communicate and synchronize with each other."
   ]
  },
  {
   "cell_type": "markdown",
   "id": "73bda1b8-c402-4c03-b79e-d0a5f626089e",
   "metadata": {},
   "source": [
    "Multithreading is used in Python for several reasons, including:\n",
    "\n",
    "1. Improved performance: Multithreading allows a program to take advantage of multiple CPUs or cores, making it faster and more efficient.\n",
    "2. Improved responsiveness: Multithreading allows a program to respond to user input or external events while performing long-running tasks in the background.\n",
    "3. Improved resource management: Multithreading allows a program to make better use of system resources, such as memory and I/O devices, by overlapping operations and reducing idle time."
   ]
  },
  {
   "cell_type": "markdown",
   "id": "545bbb74-897d-46b9-b554-d03a5fca295c",
   "metadata": {},
   "source": [
    "'threading' is the module use to handle threads in Python"
   ]
  },
  {
   "cell_type": "markdown",
   "id": "79479b6e-4287-4587-8f8b-98dc0fc76a3e",
   "metadata": {},
   "source": [
    "Q2. Why threading module used? Write the use of the following functions:\n",
    "1. activeCount()\n",
    "2. currentThread()\n",
    "3. enumerate()"
   ]
  },
  {
   "cell_type": "markdown",
   "id": "86a82cb3-6231-4d34-a9e3-b769db543312",
   "metadata": {},
   "source": [
    "Threading Module is used to take advantage of Multithreading in python"
   ]
  },
  {
   "cell_type": "markdown",
   "id": "c0d78b2d-4608-4ed0-8fb5-0599c6752196",
   "metadata": {},
   "source": [
    "1. activeCount(): This function is a method of the threading module in Python and is used to get the number of active threads in the current thread's context. It returns an integer value that represents the number of active threads. This function can be useful for debugging purposes, to ensure that all threads have started or finished as expected.\n",
    "\n",
    "2. currentThread(): This function is a method of the threading module in Python and returns a reference to the current thread object. This function can be useful for accessing information about the current thread, such as its name or ID, or for passing the thread object as an argument to another function.\n",
    "\n",
    "3. enumerate(): This function is a method of the threading module in Python and returns a list of all active thread objects in the current thread's context. This function can be useful for iterating over all active threads and performing some action on each one, such as checking their status or terminating them if necessary."
   ]
  },
  {
   "cell_type": "markdown",
   "id": "e4d5da0a-dc49-4686-be32-f8a40d9f6a10",
   "metadata": {},
   "source": [
    "Q3. Explain the following functions:\n",
    "1. run()\n",
    "2. start()\n",
    "3. join()\n",
    "4. isAlive()"
   ]
  },
  {
   "cell_type": "markdown",
   "id": "6b6cdea5-d5db-4259-97e9-28dbf0f510c3",
   "metadata": {},
   "source": [
    "1. run(): This method is called when a thread starts running. It defines the activity that the thread will perform while it is running. The run() method should be overridden by a subclass of Thread to define the thread's behavior. When the start() method is called, it creates a new thread and calls its run() method.\n",
    "\n",
    "2. start(): This method starts a new thread by calling the run() method. When start() is called, a new thread is created and the run() method is called in that new thread. If start() is called multiple times on the same thread object, it will raise a RuntimeError.\n",
    "\n",
    "3. join(): This method waits for a thread to terminate. When join() is called on a thread object, the calling thread will block until the thread being joined has completed its work and terminated. If the thread being joined is already terminated, join() returns immediately. The optional timeout parameter specifies the maximum number of seconds to wait for the thread to terminate.\n",
    "\n",
    "4. isAlive(): This method returns a boolean value that indicates whether a thread is still alive or has completed its work and terminated. A thread is considered alive if it has been started but has not yet completed its work. Once a thread has completed its work, it is no longer considered alive. This method can be useful for checking the status of a thread and determining whether it has completed its work or is still running."
   ]
  },
  {
   "cell_type": "markdown",
   "id": "27ad5509-4030-4d16-9219-9e13fd031b55",
   "metadata": {},
   "source": [
    "Q4. Write a python program to create two threads. Thread one must print the list of squares and thread two must print the list of cubes."
   ]
  },
  {
   "cell_type": "code",
   "execution_count": 13,
   "id": "8c22c5ee-5e07-46bb-a59e-0fd7f90a17de",
   "metadata": {},
   "outputs": [
    {
     "name": "stdout",
     "output_type": "stream",
     "text": [
      "1 squared is 1\n",
      "2 squared is 4\n",
      "3 squared is 9\n",
      "4 squared is 16\n",
      "5 squared is 25\n",
      "1 cubed is 1\n",
      "2 cubed is 8\n",
      "3 cubed is 27\n",
      "4 cubed is 64\n",
      "5 cubed is 125\n"
     ]
    }
   ],
   "source": [
    "import threading\n",
    "\n",
    "def print_squares():\n",
    "    for i in range(1, 6):\n",
    "        print(f\"{i} squared is {i ** 2}\")\n",
    "\n",
    "def print_cubes():\n",
    "    for i in range(1, 6):\n",
    "        print(f\"{i} cubed is {i ** 3}\")\n",
    "\n",
    "t1 = threading.Thread(target=print_squares)\n",
    "t2 = threading.Thread(target=print_cubes)\n",
    "\n",
    "t1.start()\n",
    "t2.start()"
   ]
  },
  {
   "cell_type": "markdown",
   "id": "994f88b1-f4ad-4e83-9c6f-e22bc8e89414",
   "metadata": {},
   "source": [
    "Q5. State advantages and disadvantages of multithreading."
   ]
  },
  {
   "cell_type": "markdown",
   "id": "b37bcd5c-5902-46aa-b6bb-59fce469bc38",
   "metadata": {},
   "source": [
    "Advantages of multithreading:\n",
    "\n",
    "1. Improved performance: Multithreading can improve the performance of applications by allowing multiple tasks to be executed simultaneously. This can lead to faster execution times and better responsiveness.\n",
    "\n",
    "2. Resource sharing: Multithreading allows multiple threads to share resources, such as memory and CPU time, which can lead to more efficient use of system resources.\n",
    "\n",
    "3. Increased responsiveness: Multithreading can improve the responsiveness of applications by allowing user interfaces to remain responsive while long-running tasks are executed in the background.\n",
    "\n",
    "4. Simplified programming: Multithreading can simplify programming by allowing developers to break complex tasks into smaller, more manageable threads. This can make it easier to write and debug code.\n"
   ]
  },
  {
   "cell_type": "markdown",
   "id": "17307a30-9099-4efd-ad92-f9d05222451d",
   "metadata": {},
   "source": [
    "Disadvantages of multithreading:\n",
    "\n",
    "1. Increased complexity: Multithreading can increase the complexity of code, making it more difficult to write and debug.\n",
    "\n",
    "2. Synchronization issues: Multithreading can introduce synchronization issues when multiple threads access shared resources simultaneously. This can lead to race conditions, deadlocks, and other synchronization problems.\n",
    "\n",
    "3. Increased overhead: Multithreading can introduce additional overhead in terms of memory usage and context switching, which can reduce performance.\n",
    "\n",
    "4. Limited scalability: Multithreading may not scale well on systems with limited resources, such as embedded systems or systems with a small number of CPUs."
   ]
  },
  {
   "cell_type": "markdown",
   "id": "499231be-2ae5-4f57-b728-ed7ab61a704c",
   "metadata": {},
   "source": [
    "Q6. Explain deadlocks and race conditions."
   ]
  },
  {
   "cell_type": "markdown",
   "id": "3f0ab788-307f-48e4-a324-9f8482f59688",
   "metadata": {},
   "source": [
    "Deadlock:\n",
    "A deadlock occurs when two or more threads are blocked and waiting for each other to release a resource that they need to proceed. For example, Thread A may be holding Resource 1 and waiting for Resource 2 to be released, while Thread B is holding Resource 2 and waiting for Resource 1 to be released. In this situation, neither thread can proceed, and the program becomes deadlocked."
   ]
  },
  {
   "cell_type": "markdown",
   "id": "4e33dd81-5d8a-4fe0-973a-9bd286065e0c",
   "metadata": {},
   "source": [
    "Race condition:\n",
    "A race condition occurs when the behavior of a program depends on the relative timing of two or more threads. For example, Thread A and Thread B may both be trying to update a shared variable, and the final value of the variable may depend on which thread gets to update it last. If the order of execution of the threads is not controlled properly, the program may produce incorrect results or crash."
   ]
  },
  {
   "cell_type": "code",
   "execution_count": null,
   "id": "685ab973-fd16-4f13-85c3-afd9aa431ea4",
   "metadata": {},
   "outputs": [],
   "source": []
  }
 ],
 "metadata": {
  "kernelspec": {
   "display_name": "Python 3 (ipykernel)",
   "language": "python",
   "name": "python3"
  },
  "language_info": {
   "codemirror_mode": {
    "name": "ipython",
    "version": 3
   },
   "file_extension": ".py",
   "mimetype": "text/x-python",
   "name": "python",
   "nbconvert_exporter": "python",
   "pygments_lexer": "ipython3",
   "version": "3.9.13"
  }
 },
 "nbformat": 4,
 "nbformat_minor": 5
}
